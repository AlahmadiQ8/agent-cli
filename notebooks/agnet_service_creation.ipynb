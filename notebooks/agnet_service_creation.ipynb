{
 "cells": [
  {
   "cell_type": "markdown",
   "id": "0aa9421d",
   "metadata": {},
   "source": [
    "## Imports"
   ]
  },
  {
   "cell_type": "code",
   "execution_count": 4,
   "id": "08a5d912",
   "metadata": {},
   "outputs": [
    {
     "data": {
      "text/plain": [
       "True"
      ]
     },
     "execution_count": 4,
     "metadata": {},
     "output_type": "execute_result"
    }
   ],
   "source": [
    "import os\n",
    "from dotenv import load_dotenv\n",
    "import logging\n",
    "\n",
    "from azure.ai.projects.aio import AIProjectClient\n",
    "from azure.ai.agents.models import (\n",
    "    Agent,\n",
    "    AsyncToolSet,\n",
    "    AzureAISearchTool,\n",
    "    FilePurpose,\n",
    "    FileSearchTool,\n",
    "    Tool,\n",
    ")\n",
    "from azure.ai.projects.models import ConnectionType, ApiKeyCredentials\n",
    "from azure.identity.aio import DefaultAzureCredential\n",
    "from azure.core.credentials_async import AsyncTokenCredential\n",
    "\n",
    "load_dotenv()"
   ]
  },
  {
   "cell_type": "code",
   "execution_count": null,
   "id": "bc802154",
   "metadata": {},
   "outputs": [],
   "source": [
    "agent = None\n",
    "\n",
    "proj_endpoint = os.environ.get(\"AZURE_EXISTING_AIPROJECT_ENDPOINT\")\n",
    "agent_id = os.environ.get(\"AZURE_AI_AGENT_ID\")\n",
    "\n",
    "async def create_agent(ai_client: AIProjectClient, creds: AsyncTokenCredential) -> Agent:\n",
    "    logging.info(\"Creating new agent with resources\")\n",
    "    # tool = await get_available_tool(ai_client, creds)\n",
    "    toolset = AsyncToolSet()\n",
    "    # toolset.add(tool)\n",
    "    \n",
    "    instructions = \"You are a helpful assistant. Use the tools provided to answer questions.\"\n",
    "    \n",
    "    agent = await ai_client.agents.create_agent(\n",
    "        model=os.environ[\"AZURE_AI_AGENT_DEPLOYMENT_NAME\"],\n",
    "        name=os.environ[\"AZURE_AI_AGENT_NAME\"],\n",
    "        instructions=instructions,\n",
    "        toolset=toolset\n",
    "    )\n",
    "    return agent\n",
    "\n",
    "async def initialize_resources():\n",
    "    try: \n",
    "        async with DefaultAzureCredential(exclude_shared_token_cache_credential=True) as creds:\n",
    "            async with AIProjectClient(credential=creds, endpoint=proj_endpoint) as ai_client: # type: ignore\n",
    "                if agent_id is not None: \n",
    "                    try:\n",
    "                        agent = await ai_client.agents.get_agent(agent_id)\n",
    "                        logging.info(f\"Found agent by ID: {agent.id}\")\n",
    "                        return\n",
    "                    except Exception as e:\n",
    "                        logging.warning(f\"Could not retrieve agent by AZURE_AGENT_ID = \\\"{agent_id}\\\". Will create a new agent.\")\n",
    "                \n",
    "                agent_list = ai_client.agents.list_agents()\n",
    "                if agent_list:\n",
    "                    async for agent_object in agent_list:\n",
    "                        if agent_object.name == os.environ[\"AZURE_AI_AGENT_NAME\"]:\n",
    "                            logging.info(\n",
    "                                f\"Found existing agent named '{agent_object.name}', ID: {agent_object.id}\")\n",
    "                            os.environ[\"AZURE_AI_AGENT_ID\"] = agent_object.id\n",
    "                            return\n",
    "                \n",
    "                # Create a new agent\n",
    "                agent = await create_agent(ai_client, creds)\n",
    "                os.environ[\"AZURE_AI_AGENT_ID\"] = agent.id\n",
    "                logging.info(f\"Created agent, agent ID: {agent.id}\")\n",
    "    except Exception as e:\n",
    "        logging.info(\"Error creating agent: {e}\", exc_info=True)\n",
    "        raise RuntimeError(f\"Failed to create the agent: {e}\")\n",
    "    \n",
    "\n",
    "await initialize_resources()"
   ]
  }
 ],
 "metadata": {
  "kernelspec": {
   "display_name": "agent-cli",
   "language": "python",
   "name": "python3"
  },
  "language_info": {
   "codemirror_mode": {
    "name": "ipython",
    "version": 3
   },
   "file_extension": ".py",
   "mimetype": "text/x-python",
   "name": "python",
   "nbconvert_exporter": "python",
   "pygments_lexer": "ipython3",
   "version": "3.11.9"
  }
 },
 "nbformat": 4,
 "nbformat_minor": 5
}
