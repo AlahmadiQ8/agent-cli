{
 "cells": [
  {
   "cell_type": "markdown",
   "id": "0aa9421d",
   "metadata": {},
   "source": [
    "## Imports"
   ]
  },
  {
   "cell_type": "code",
   "execution_count": 1,
   "id": "08a5d912",
   "metadata": {},
   "outputs": [],
   "source": [
    "import os\n",
    "from dotenv import load_dotenv\n",
    "import logging\n",
    "\n",
    "logger = logging.getLogger(\"myapp\")\n",
    "\n",
    "from azure.ai.projects.aio import AIProjectClient\n",
    "from azure.ai.agents.models import (\n",
    "    Agent,\n",
    "    AsyncToolSet,\n",
    "    AzureAISearchTool,\n",
    "    FilePurpose,\n",
    "    FileSearchTool,\n",
    "    Tool,\n",
    ")\n",
    "from azure.ai.projects.models import ConnectionType, ApiKeyCredentials\n",
    "from azure.identity.aio import DefaultAzureCredential\n",
    "from azure.core.credentials_async import AsyncTokenCredential\n",
    "\n",
    "load_dotenv()\n",
    "\n",
    "# Only show my app logs\n",
    "for handler in logging.root.handlers[:]:\n",
    "    logging.root.removeHandler(handler)\n",
    "logger = logging.getLogger(\"myapp\")  # Use your desired logger name\n",
    "handler = logging.StreamHandler()\n",
    "formatter = logging.Formatter('%(levelname)s %(name)s: %(message)s')\n",
    "handler.setFormatter(formatter)\n",
    "logger.addHandler(handler)\n",
    "logger.setLevel(logging.DEBUG)\n",
    "logger.propagate = False\n",
    "\n"
   ]
  },
  {
   "cell_type": "markdown",
   "id": "367f961c",
   "metadata": {},
   "source": [
    "## Create Agent"
   ]
  },
  {
   "cell_type": "code",
   "execution_count": 2,
   "id": "bc802154",
   "metadata": {},
   "outputs": [
    {
     "name": "stderr",
     "output_type": "stream",
     "text": [
      "INFO myapp: Updating existing agent with resources\n",
      "WARNING myapp: Could not retrieve agent by AZURE_AGENT_ID = \"\". Will create a new agent.\n",
      "INFO myapp: Found existing agent named 'my_cool_agent', ID: asst_O5CGrHjmFhHgfhgZAKlasHtB\n",
      "INFO myapp: Updating existing agent with resources\n"
     ]
    },
    {
     "data": {
      "text/plain": [
       "{'id': 'asst_O5CGrHjmFhHgfhgZAKlasHtB', 'object': 'assistant', 'created_at': 1752051705, 'name': 'my_cool_agent', 'description': None, 'model': 'gpt-4.1-mini', 'instructions': 'You are a helpful assistant. Use the tools provided to answer questions.', 'tools': [], 'top_p': 1.0, 'temperature': 1.0, 'tool_resources': {}, 'metadata': {}, 'response_format': 'auto'}"
      ]
     },
     "execution_count": 2,
     "metadata": {},
     "output_type": "execute_result"
    }
   ],
   "source": [
    "agent = None\n",
    "\n",
    "proj_endpoint = os.environ.get(\"AZURE_EXISTING_AIPROJECT_ENDPOINT\")\n",
    "agent_id = os.environ.get(\"AZURE_AI_AGENT_ID\")\n",
    "\n",
    "async def create_or_update_agent(agent: Agent | None, ai_client: AIProjectClient, creds: AsyncTokenCredential) -> Agent:\n",
    "    # tool = await get_available_tool(ai_client, creds)\n",
    "    toolset = AsyncToolSet()\n",
    "    # toolset.add(tool)\n",
    "    \n",
    "    instructions = \"You are a helpful assistant. Use the tools provided to answer questions.\"\n",
    "    \n",
    "    if (agent is None):\n",
    "        logger.info(\"Creating new agent with resources\")\n",
    "        agent = await ai_client.agents.create_agent(\n",
    "            model=os.environ[\"AZURE_AI_AGENT_DEPLOYMENT_NAME\"],\n",
    "            name=os.environ[\"AZURE_AI_AGENT_NAME\"],\n",
    "            instructions=instructions,\n",
    "            toolset=toolset\n",
    "        )\n",
    "    else:\n",
    "        logger.info(\"Updating existing agent with resources\")\n",
    "        agent.instructions = instructions\n",
    "        agent = await ai_client.agents.update_agent(\n",
    "            agent_id=agent.id,\n",
    "            model=os.environ[\"AZURE_AI_AGENT_DEPLOYMENT_NAME\"],\n",
    "            name=os.environ[\"AZURE_AI_AGENT_NAME\"],\n",
    "            instructions=instructions,\n",
    "            toolset=toolset)\n",
    "    \n",
    "    return agent\n",
    "\n",
    "async def initialize_resources() -> Agent:\n",
    "    try: \n",
    "        async with DefaultAzureCredential(exclude_shared_token_cache_credential=True) as creds:\n",
    "            async with AIProjectClient(credential=creds, endpoint=proj_endpoint) as ai_client: # type: ignore\n",
    "                if agent_id is not None: \n",
    "                    try:\n",
    "                        agent = await ai_client.agents.get_agent(agent_id)\n",
    "                        agent = await create_or_update_agent(agent, ai_client, creds)\n",
    "                        logger.info(f\"Found agent by ID: {agent.id}. Updating agnet\")\n",
    "                        return agent\n",
    "                    except Exception as e:\n",
    "                        logger.warning(f\"Could not retrieve agent by AZURE_AGENT_ID = \\\"{agent_id}\\\". Will create a new agent.\")\n",
    "                \n",
    "                agent_list = ai_client.agents.list_agents()\n",
    "                if agent_list:\n",
    "                    async for agent_object in agent_list:\n",
    "                        if agent_object.name == os.environ[\"AZURE_AI_AGENT_NAME\"]:\n",
    "                            logger.info(f\"Found existing agent named '{agent_object.name}', ID: {agent_object.id}\")\n",
    "                            os.environ[\"AZURE_AI_AGENT_ID\"] = agent_object.id\n",
    "                            agent = await ai_client.agents.get_agent(os.environ[\"AZURE_AI_AGENT_ID\"])\n",
    "                            agent = await create_or_update_agent(agent, ai_client, creds)\n",
    "                            return agent\n",
    "                \n",
    "                # Create a new agent\n",
    "                agent = await create_or_update_agent(None, ai_client, creds)\n",
    "                os.environ[\"AZURE_AI_AGENT_ID\"] = agent.id\n",
    "                logger.info(f\"Created agent, agent ID: {agent.id}\")\n",
    "\n",
    "                return agent\n",
    "    except Exception as e:\n",
    "        logger.info(\"Error creating agent: {e}\", exc_info=True)\n",
    "        raise RuntimeError(f\"Failed to create the agent: {e}\")\n",
    "    \n",
    "\n",
    "await initialize_resources()"
   ]
  }
 ],
 "metadata": {
  "kernelspec": {
   "display_name": "agent-cli",
   "language": "python",
   "name": "python3"
  },
  "language_info": {
   "codemirror_mode": {
    "name": "ipython",
    "version": 3
   },
   "file_extension": ".py",
   "mimetype": "text/x-python",
   "name": "python",
   "nbconvert_exporter": "python",
   "pygments_lexer": "ipython3",
   "version": "3.11.9"
  }
 },
 "nbformat": 4,
 "nbformat_minor": 5
}
